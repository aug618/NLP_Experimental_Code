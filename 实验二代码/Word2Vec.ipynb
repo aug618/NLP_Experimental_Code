{
 "cells": [
  {
   "cell_type": "markdown",
   "metadata": {},
   "source": [
    "# 导入必要的库\n",
    "导入所需的库，包括pandas、numpy、matplotlib、scikit-learn以及gensim库用于Word2Vec实现。每个导入语句后添加注释说明该库的用途。"
   ]
  },
  {
   "cell_type": "code",
   "execution_count": 9,
   "metadata": {},
   "outputs": [],
   "source": [
    "# 导入必要的库\n",
    "import pandas as pd  # 数据处理和分析\n",
    "import numpy as np  # 数值计算\n",
    "import matplotlib.pyplot as plt  # 数据可视化\n",
    "import seaborn as sns  # 数据可视化\n",
    "from sklearn.cluster import KMeans  # K-means聚类算法\n",
    "from sklearn.decomposition import PCA, TruncatedSVD  # 降维算法\n",
    "from sklearn.metrics import silhouette_score  # 聚类评估指标\n",
    "from gensim.models import Word2Vec  # Word2Vec模型用于特征提取\n",
    "import re  # 正则表达式库，用于文本清洗"
   ]
  },
  {
   "cell_type": "markdown",
   "metadata": {},
   "source": [
    "# 加载和预处理数据\n",
    "定义数据加载和文本清洗函数。加载CSV文件，处理列名，删除空值，并对文本进行基本清洗。这里需要进行分词和去停用词处理，为Word2Vec做准备。为分词后的评论文本添加一个新列，以便后续使用。"
   ]
  },
  {
   "cell_type": "code",
   "execution_count": 10,
   "metadata": {},
   "outputs": [
    {
     "name": "stdout",
     "output_type": "stream",
     "text": [
      "数据集共有 39999 条评论\n",
      "数据集包含的列: ['Unnamed: 0', 'video_id', 'Comment', 'likes', 'replies', 'clean_comment', 'tokenized_comment']\n",
      "\n",
      "处理前的前5条评论:\n",
      "0                    Logan Paul it's yo big day ‼️‼️‼️\n",
      "1    I've been following you from the start of your...\n",
      "2                   Say hi to Kong and maverick for me\n",
      "3                                  MY FAN . attendance\n",
      "4                                           trending 😉\n",
      "Name: Comment, dtype: object\n",
      "\n",
      "处理后的前5条评论:\n",
      "0                           logan paul it s yo big day\n",
      "1    i ve been following you from the start of your...\n",
      "2                   say hi to kong and maverick for me\n",
      "3                                    my fan attendance\n",
      "4                                             trending\n",
      "Name: clean_comment, dtype: object\n",
      "\n",
      "分词后的前5条评论:\n",
      "0                            [logan, paul, s, yo, day]\n",
      "1    [ve, following, start, vine, channel, seen, vl...\n",
      "2                                 [hi, kong, maverick]\n",
      "3                                    [fan, attendance]\n",
      "4                                           [trending]\n",
      "Name: tokenized_comment, dtype: object\n"
     ]
    }
   ],
   "source": [
    "# 定义数据加载和预处理函数\n",
    "def load_and_preprocess(file_path):\n",
    "    # 读取CSV文件\n",
    "    df = pd.read_csv(file_path)\n",
    "    \n",
    "    # 确保数据有Comment列\n",
    "    if 'Comment' not in df.columns:\n",
    "        raise ValueError(\"CSV文件中没有'Comment'列\")\n",
    "    \n",
    "    # 确保没有空值\n",
    "    df = df.dropna(subset=['Comment'])\n",
    "    \n",
    "    # 文本清洗和分词\n",
    "    df['clean_comment'] = df['Comment'].apply(clean_text)\n",
    "    df['tokenized_comment'] = df['clean_comment'].apply(tokenize_text)\n",
    "    \n",
    "    return df\n",
    "\n",
    "# 定义文本清洗函数\n",
    "def clean_text(text):\n",
    "    # 转换为小写\n",
    "    text = str(text).lower()\n",
    "    # 移除特殊字符和多余空格\n",
    "    text = re.sub(r'[^a-z\\s]', ' ', text)\n",
    "    text = re.sub(r'\\s+', ' ', text)\n",
    "    return text.strip()\n",
    "\n",
    "# 定义分词和去停用词函数\n",
    "def tokenize_text(text):\n",
    "    stop_words = set(['the', 'and', 'is', 'in', 'to', 'of', 'a', 'i', 'it', 'that', 'this', 'for', 'on', 'with', 'as', 'was', 'but', 'be', 'are', 'not', 'have', 'you', 'at', 'or', 'an', 'by', 'from', 'they', 'we', 'which', 'one', 'all', 'were', 'so', 'if', 'there', 'their', 'my', 'me', 'your', 'has', 'had', 'will', 'would', 'can', 'what', 'when', 'who', 'them', 'about', 'more', 'out', 'up', 'no', 'just', 'do', 'some', 'like', 'now', 'than', 'how', 'then', 'he', 'she', 'him', 'her', 'its', 'our', 'us', 'could', 'should', 'did', 'been', 'because', 'into', 'only', 'other', 'these', 'any', 'very', 'over', 'also', 'after', 'most', 'even', 'many', 'those', 'before', 'such', 'through', 'much', 'where', 'why', 'while', 'still', 'off', 'both', 'being', 'own', 'same', 'too', 'here', 'go', 'see', 'get', 'got', 'back', 'going', 'want', 'make', 'made', 'know', 'take', 'think', 'say', 'said', 'come', 'came', 'right', 'left', 'use', 'used', 'good', 'well', 'better', 'best', 'new', 'old', 'first', 'last', 'long', 'short', 'big', 'small', 'high', 'low', 'early', 'late', 'young', 'old', 'great', 'little', 'few', 'next', 'same', 'another', 'each', 'every', 'own', 'same', 'different', 'such', 'other', 'another', 'few', 'several', 'many', 'most', 'some', 'any', 'all', 'both', 'either', 'neither', 'much', 'more', 'less', 'least', 'fewer', 'fewest', 'more', 'most', 'less', 'least', 'own', 'same', 'different', 'such', 'other', 'another', 'few', 'several', 'many', 'most', 'some', 'any', 'all', 'both', 'either', 'neither', 'much', 'more', 'less', 'least', 'fewer', 'fewest', 'more', 'most', 'less', 'least'])\n",
    "    tokens = text.split()\n",
    "    tokens = [word for word in tokens if word not in stop_words]\n",
    "    return tokens\n",
    "\n",
    "# 加载和预处理数据\n",
    "file_path = \"data/USComments.csv\"  \n",
    "df = load_and_preprocess(file_path)\n",
    "\n",
    "# 显示数据基本信息\n",
    "print(f\"数据集共有 {len(df)} 条评论\")\n",
    "print(f\"数据集包含的列: {df.columns.tolist()}\")\n",
    "\n",
    "# 显示处理前后的数据对比\n",
    "print(\"\\n处理前的前5条评论:\")\n",
    "print(df['Comment'].head())\n",
    "print(\"\\n处理后的前5条评论:\")\n",
    "print(df['clean_comment'].head())\n",
    "print(\"\\n分词后的前5条评论:\")\n",
    "print(df['tokenized_comment'].head())"
   ]
  },
  {
   "cell_type": "markdown",
   "metadata": {},
   "source": [
    "# 使用Word2Vec进行特征提取\n",
    "使用gensim库的Word2Vec模型训练词向量。设置参数如vector_size、window、min_count等，训练模型并保存。将每个评论转换为向量表示（通过平均词向量或其他方法），以生成文档级别的向量表示。这种表示法与TF-IDF不同，能更好地捕捉词的语义关系。"
   ]
  },
  {
   "cell_type": "code",
   "execution_count": 11,
   "metadata": {},
   "outputs": [
    {
     "name": "stdout",
     "output_type": "stream",
     "text": [
      "特征矩阵的形状: (39999, 100)\n",
      "特征矩阵的部分内容:\n",
      "[[ 4.45157230e-01 -7.97552839e-02  4.70244497e-01 -6.01553142e-01\n",
      "  -5.02303004e-01 -4.08193737e-01 -2.74865806e-01  3.31644088e-01\n",
      "  -2.60968834e-01 -5.37652671e-01  4.77442741e-01 -2.18875498e-01\n",
      "   6.62790000e-01 -2.68356085e-01  3.38224351e-01  2.53823578e-01\n",
      "   8.47031623e-02 -1.14011809e-01  8.21479559e-02 -6.20353580e-01\n",
      "  -2.08821729e-01 -2.26653069e-01  4.64855582e-01 -2.42158562e-01\n",
      "  -3.25201094e-01  2.67114073e-01 -1.99671946e-02 -1.82614610e-01\n",
      "   4.15262699e-01  2.74086952e-01 -1.89631313e-01  6.68076053e-02\n",
      "   5.38655341e-01  5.29009104e-01  3.62352699e-01  1.70529425e-01\n",
      "   2.05719709e-01 -3.97164635e-02 -4.08046335e-01  1.90516445e-03\n",
      "  -1.60180226e-01 -1.28140803e-02 -4.41420317e-01  4.80439752e-01\n",
      "  -4.28343683e-01 -4.50364023e-01 -1.74308136e-01 -5.79635613e-02\n",
      "  -5.49665630e-01  7.18127117e-02 -3.26427132e-01 -3.91339250e-02\n",
      "  -5.85510135e-01 -1.14651327e-03  1.78004012e-01 -5.85947037e-02\n",
      "  -3.56480777e-01 -1.16410516e-01  4.01662737e-01  1.63934037e-01\n",
      "  -5.39886594e-01 -2.69834816e-01  2.58134782e-01  7.75932446e-02\n",
      "  -6.48532391e-01  2.96301782e-01 -4.98869747e-01 -3.54974210e-01\n",
      "   2.27955058e-01 -2.06136256e-01  3.18821520e-01  6.13876700e-01\n",
      "  -1.88018903e-01  6.03161454e-01  7.35754818e-02  7.33313620e-01\n",
      "   3.74479145e-01 -6.34793460e-01 -2.78224528e-01  3.49845022e-01\n",
      "   3.84057105e-01  4.59760338e-01  4.17662710e-01  5.53158402e-01\n",
      "  -5.64543247e-01  2.38456413e-01 -2.91923106e-01  2.12534219e-01\n",
      "   4.35222626e-01  3.19026828e-01  4.75218058e-01  1.42985359e-01\n",
      "  -4.76524308e-02  3.70528370e-01 -3.60531271e-01  6.66909069e-02\n",
      "   5.78678548e-01 -3.53298426e-01  3.29321682e-01 -5.74056864e-01]\n",
      " [ 3.80798072e-01 -3.08956038e-02  4.09514040e-01 -5.62736034e-01\n",
      "  -5.57824194e-01 -4.65289295e-01  5.04612252e-02  3.11406106e-01\n",
      "   6.64182659e-03 -5.99475265e-01  5.11003554e-01  6.86944053e-02\n",
      "   3.75985295e-01 -4.24343169e-01  7.62838572e-02  2.05067560e-01\n",
      "   2.56637841e-01 -1.93980336e-01  2.00066902e-02 -6.21539295e-01\n",
      "  -2.25237742e-01  2.67493110e-02  3.48016948e-01 -5.46732210e-02\n",
      "  -4.90867198e-01  1.04604535e-01 -1.52109265e-01 -3.68189871e-01\n",
      "   3.40741575e-01  2.55118519e-01 -1.77476272e-01 -2.78698076e-02\n",
      "   6.60733521e-01  4.51338738e-01  3.67775053e-01  3.02884787e-01\n",
      "   5.80593608e-02 -5.92537485e-02 -4.15287912e-01 -9.16647390e-02\n",
      "  -1.58790097e-01  1.25660971e-02 -2.54742354e-01  3.24550927e-01\n",
      "  -3.42535228e-01 -6.39290869e-01 -3.74565184e-01 -1.84124917e-01\n",
      "  -4.47816551e-01  2.54672021e-01 -3.02653819e-01 -2.11327717e-01\n",
      "  -5.03443599e-01  1.00934217e-02  2.75857896e-01  2.76576787e-01\n",
      "  -1.44973174e-01 -1.37279347e-01  4.71981585e-01  4.30578172e-01\n",
      "  -4.74019200e-01 -3.03770989e-01  2.02824190e-01  1.39568606e-02\n",
      "  -5.34954250e-01  2.93499410e-01 -7.27938533e-01 -4.17127609e-01\n",
      "   8.44722241e-02 -3.27040672e-01  1.43405333e-01  5.15449464e-01\n",
      "  -1.39835462e-01  5.03692925e-01  9.03661177e-02  2.78299838e-01\n",
      "   2.45811373e-01 -6.33440673e-01 -2.60812223e-01  2.12908030e-01\n",
      "   2.66294450e-01  6.44028783e-01  3.26815993e-01  6.11665428e-01\n",
      "  -5.43449998e-01  3.24407995e-01 -6.78490177e-02  2.73461074e-01\n",
      "   3.07586372e-01  3.58815193e-01  5.49757063e-01  2.12559011e-02\n",
      "  -2.44161800e-01  4.98875529e-01 -3.72537374e-01 -2.35007882e-01\n",
      "   4.80955899e-01 -2.87817091e-01 -5.68189733e-02 -4.83163089e-01]\n",
      " [ 1.81015119e-01 -5.49488924e-02  1.70494154e-01 -2.86273390e-01\n",
      "  -2.38776848e-01 -2.01220438e-01 -1.63401991e-01  1.90767884e-01\n",
      "  -1.03278577e-01 -2.58814484e-01  2.38784716e-01 -1.12146782e-02\n",
      "   2.25520074e-01 -1.16346188e-01  1.47688136e-01  1.09297760e-01\n",
      "   1.21657178e-02 -4.51042056e-02  3.76655273e-02 -2.63654917e-01\n",
      "  -9.75984335e-02 -9.58544612e-02  2.34585926e-01 -7.84175918e-02\n",
      "  -1.42973468e-01  1.13475956e-01 -3.58644500e-02 -9.72052142e-02\n",
      "   1.55365959e-01  1.44346014e-01 -1.03425741e-01  3.98311205e-03\n",
      "   2.24516571e-01  2.15442538e-01  2.13073000e-01  9.31335986e-02\n",
      "   9.40424427e-02 -1.93998981e-02 -1.99503288e-01 -4.95454781e-02\n",
      "  -1.08590156e-01 -2.37364676e-02 -1.27527446e-01  2.15531841e-01\n",
      "  -1.60958648e-01 -2.19439581e-01 -1.01656020e-01 -7.12008476e-02\n",
      "  -2.05877826e-01  5.69330156e-02 -1.15721606e-01 -1.44708985e-02\n",
      "  -2.40537837e-01  5.34013286e-03  1.05038941e-01 -4.41274308e-02\n",
      "  -1.53346360e-01 -2.91647296e-02  1.13172144e-01  9.88309905e-02\n",
      "  -2.21491635e-01 -6.90986291e-02  1.58342883e-01  6.20282143e-02\n",
      "  -2.81486601e-01  1.36686787e-01 -1.73739746e-01 -1.66190296e-01\n",
      "   4.83990796e-02 -1.06895275e-01  1.54727802e-01  2.60417312e-01\n",
      "  -8.21009055e-02  2.32352987e-01  6.27839789e-02  2.80964524e-01\n",
      "   1.58726305e-01 -2.69427568e-01 -1.47577628e-01  1.47229537e-01\n",
      "   1.79335967e-01  1.71251878e-01  1.35748312e-01  2.54137129e-01\n",
      "  -3.37578654e-01  1.18852913e-01 -9.33253393e-02  1.15279824e-01\n",
      "   1.91300511e-01  1.98965713e-01  2.03975841e-01  6.79618493e-02\n",
      "  -1.19189108e-02  1.33707523e-01 -1.05363242e-01  9.73026827e-03\n",
      "   2.33137682e-01 -1.00484252e-01  8.66998658e-02 -2.87456363e-01]\n",
      " [ 4.60099220e-01 -1.07440934e-01  4.63574380e-01 -7.42675066e-01\n",
      "  -5.96746206e-01 -5.06315887e-01 -2.61643976e-01  4.67725754e-01\n",
      "  -2.27783576e-01 -6.29588008e-01  4.25890088e-01 -1.22527473e-01\n",
      "   6.84966385e-01 -3.37317050e-01  3.70957732e-01  2.44935438e-01\n",
      "   1.25820741e-01 -1.56924471e-01  1.56057462e-01 -6.32079840e-01\n",
      "  -1.41506478e-01 -1.57250762e-01  4.77407962e-01 -4.69663478e-02\n",
      "  -4.65590775e-01  2.92969793e-01 -9.83625427e-02 -2.82132328e-01\n",
      "   4.99290347e-01  2.70225316e-01 -2.24899948e-01  3.99845466e-02\n",
      "   5.74850440e-01  5.76027453e-01  4.45758045e-01  3.15252721e-01\n",
      "   1.87192038e-01 -9.54428469e-05 -5.57504237e-01 -1.30697070e-02\n",
      "  -2.41194174e-01  5.23158908e-02 -3.17501724e-01  5.03477633e-01\n",
      "  -4.61233020e-01 -5.70214927e-01 -2.83990353e-01 -9.66075435e-02\n",
      "  -6.37526691e-01  9.16347131e-02 -3.24236125e-01  1.64662953e-02\n",
      "  -6.29517555e-01  1.48719931e-02  1.91185459e-01 -3.42531204e-02\n",
      "  -3.94921511e-01 -1.29293844e-01  4.51270342e-01  2.51991451e-01\n",
      "  -5.25647163e-01 -3.39670748e-01  2.94088572e-01  1.44153848e-01\n",
      "  -6.77230537e-01  2.58912951e-01 -5.61590135e-01 -3.79950345e-01\n",
      "   1.00983515e-01 -3.42685223e-01  3.54648888e-01  7.17006624e-01\n",
      "  -2.84746051e-01  5.72222531e-01  1.74831808e-01  7.44087696e-01\n",
      "   3.59715372e-01 -5.90610027e-01 -2.72485822e-01  5.00813365e-01\n",
      "   4.03549105e-01  6.64611757e-01  5.29194832e-01  6.23915076e-01\n",
      "  -7.35784769e-01  3.48279834e-01 -2.17916429e-01  3.83387208e-01\n",
      "   3.83189231e-01  3.85524839e-01  5.84007680e-01  1.52175888e-01\n",
      "  -1.65858373e-01  4.36051458e-01 -3.23923141e-01 -3.70321870e-02\n",
      "   5.66467762e-01 -3.65835398e-01  2.72221267e-01 -6.15753710e-01]\n",
      " [ 4.82670128e-01 -2.51436591e-01  4.37580973e-01 -7.94980049e-01\n",
      "  -6.49610579e-01 -4.16691363e-01 -3.17548841e-01  6.08917952e-01\n",
      "  -2.84656972e-01 -7.55119622e-01  5.33259511e-01  1.43090695e-01\n",
      "   4.13990468e-01 -3.43274176e-01  1.57914728e-01  2.58815616e-01\n",
      "   1.54396325e-01 -2.03662544e-01  2.49562431e-02 -7.36157179e-01\n",
      "  -1.95588052e-01 -1.43924624e-01  7.22547948e-01 -2.30923280e-01\n",
      "  -2.14827791e-01  6.57362267e-02 -2.62780905e-01 -2.89622635e-01\n",
      "   3.38618368e-01  4.13324296e-01 -1.71764970e-01  1.42767020e-02\n",
      "   6.41103148e-01  3.60612780e-01  5.59726894e-01  3.01341891e-01\n",
      "   1.33833736e-01 -7.27983415e-02 -6.50111973e-01 -1.91311106e-01\n",
      "  -2.38084316e-01 -1.33381054e-01 -2.38481507e-01  5.12877345e-01\n",
      "  -4.19540972e-01 -7.59680092e-01 -3.37067187e-01 -1.82445452e-01\n",
      "  -5.93225121e-01  3.43091816e-01 -8.57867002e-02 -1.78173278e-02\n",
      "  -6.95747614e-01 -9.15521234e-02  4.03206706e-01 -6.91789761e-02\n",
      "  -2.99036711e-01  1.18092813e-01  2.32589856e-01  3.40945423e-01\n",
      "  -5.00540972e-01 -9.21132192e-02  5.34629405e-01  9.66345221e-02\n",
      "  -6.36688590e-01  3.32881570e-01 -4.13891405e-01 -3.17817092e-01\n",
      "  -1.40501084e-02 -3.32183570e-01  3.27359468e-01  6.53502345e-01\n",
      "  -1.72512457e-01  4.87139374e-01  4.00924504e-01  3.52743417e-01\n",
      "   3.35443437e-01 -6.65026248e-01 -4.11357760e-01  4.97544557e-01\n",
      "   3.51073623e-01  5.04533947e-01  1.58053458e-01  7.04280734e-01\n",
      "  -1.06326437e+00  2.84377664e-01  2.24537313e-01  4.03495491e-01\n",
      "   3.96071911e-01  7.00718522e-01  5.44936717e-01  3.26040626e-01\n",
      "  -1.28204033e-01  4.43269432e-01 -2.15742946e-01 -8.81084725e-02\n",
      "   5.62057316e-01 -1.70231611e-01  1.65029138e-01 -8.53506386e-01]]\n"
     ]
    }
   ],
   "source": [
    "# 使用Word2Vec进行特征提取\n",
    "# 设置Word2Vec模型参数\n",
    "vector_size = 100  # 词向量的维度\n",
    "window = 5  # 上下文窗口大小\n",
    "min_count = 2  # 忽略出现次数少于min_count的词\n",
    "workers = 4  # 训练使用的线程数\n",
    "\n",
    "# 训练Word2Vec模型\n",
    "w2v_model = Word2Vec(sentences=df['tokenized_comment'], vector_size=vector_size, window=window, min_count=min_count, workers=workers)\n",
    "\n",
    "# 保存模型\n",
    "w2v_model.save(\"word2vec.model\")\n",
    "\n",
    "# 将每个评论转换为向量表示（通过平均词向量）\n",
    "def comment_to_vector(comment, model):\n",
    "    words = [word for word in comment if word in model.wv]\n",
    "    if len(words) == 0:\n",
    "        return np.zeros(vector_size)\n",
    "    return np.mean(model.wv[words], axis=0)\n",
    "\n",
    "# 生成文档级别的向量表示\n",
    "df['vector'] = df['tokenized_comment'].apply(lambda x: comment_to_vector(x, w2v_model))\n",
    "\n",
    "# 将向量表示转换为矩阵形式\n",
    "X = np.vstack(df['vector'].values)\n",
    "\n",
    "# 显示向量化后的特征矩阵的形状\n",
    "print(f\"特征矩阵的形状: {X.shape}\")\n",
    "\n",
    "# 显示部分向量化后的特征矩阵内容\n",
    "print(f\"特征矩阵的部分内容:\\n{X[:5]}\")"
   ]
  },
  {
   "cell_type": "markdown",
   "metadata": {},
   "source": [
    "# 确定最佳聚类数量\n",
    "使用肘部法则和轮廓系数方法确定最佳的K值。绘制不同K值下的惯性和轮廓系数曲线图，并进行分析解释。添加交互式的K值测试，允许用户尝试不同的K值范围，找到最适合的聚类数量。"
   ]
  },
  {
   "cell_type": "code",
   "execution_count": 12,
   "metadata": {},
   "outputs": [
    {
     "data": {
      "application/vnd.jupyter.widget-view+json": {
       "model_id": "fe117ed4e1104474a84f8ff791b863b6",
       "version_major": 2,
       "version_minor": 0
      },
      "text/plain": [
       "interactive(children=(IntSlider(value=10, description='max_k', max=20, min=2), Output()), _dom_classes=('widge…"
      ]
     },
     "metadata": {},
     "output_type": "display_data"
    }
   ],
   "source": [
    "from ipywidgets import interact,fixed\n",
    "\n",
    "from matplotlib import rcParams\n",
    "\n",
    "# 设置中文字体（以 SimHei 为例）\n",
    "rcParams['font.sans-serif'] = ['SimHei']  # 设置字体为 SimHei（黑体）\n",
    "rcParams['axes.unicode_minus'] = False   # 解决负号显示问题\n",
    "\n",
    "# 定义寻找最佳K值的函数\n",
    "def find_optimal_k(X, max_k=10):\n",
    "    inertia_values = []\n",
    "    silhouette_values = []\n",
    "    k_values = range(2, max_k + 1)\n",
    "    \n",
    "    for k in k_values:\n",
    "        kmeans = KMeans(n_clusters=k, random_state=42, n_init=10)\n",
    "        clusters = kmeans.fit_predict(X)\n",
    "        inertia_values.append(kmeans.inertia_)\n",
    "        \n",
    "        # 计算轮廓系数\n",
    "        if k > 1:  # 轮廓系数需要至少2个簇\n",
    "            silhouette_values.append(silhouette_score(X, clusters))\n",
    "    \n",
    "    # 绘制肘部图\n",
    "    plt.figure(figsize=(12, 5))\n",
    "    \n",
    "    plt.subplot(1, 2, 1)\n",
    "    plt.plot(k_values, inertia_values, 'o-')\n",
    "    plt.xlabel('聚类数量 (k)')\n",
    "    plt.ylabel('惯性 (Inertia)')\n",
    "    plt.title('肘部法则')\n",
    "    plt.grid(True)\n",
    "    \n",
    "    plt.subplot(1, 2, 2)\n",
    "    plt.plot(k_values, silhouette_values, 'o-')\n",
    "    plt.xlabel('聚类数量 (k)')\n",
    "    plt.ylabel('轮廓系数')\n",
    "    plt.title('轮廓系数法')\n",
    "    plt.grid(True)\n",
    "    \n",
    "    plt.tight_layout()\n",
    "    plt.show()\n",
    "    \n",
    "    # 返回最佳K值（轮廓系数最高的K值）\n",
    "    best_k = k_values[np.argmax(silhouette_values)]\n",
    "    return best_k, inertia_values, silhouette_values\n",
    "\n",
    "# 交互式寻找最佳K值\n",
    "@interact(max_k=(2, 20))\n",
    "def interactive_find_optimal_k(max_k=10):\n",
    "    best_k, inertia_values, silhouette_values = find_optimal_k(X, max_k)\n",
    "    print(f\"根据轮廓系数，最佳的聚类数量为: {best_k}\")"
   ]
  },
  {
   "cell_type": "markdown",
   "metadata": {},
   "source": [
    "# 执行K-means聚类\n",
    "使用确定的最佳K值执行K-means聚类。展示聚类结果的基本统计信息，如各簇的大小分布。计算并展示聚类效果的评估指标，包括轮廓系数和簇内距离。将聚类结果添加到原始数据框中以便后续分析。"
   ]
  },
  {
   "cell_type": "code",
   "execution_count": 13,
   "metadata": {},
   "outputs": [
    {
     "name": "stdout",
     "output_type": "stream",
     "text": [
      "轮廓系数: 0.3101\n",
      "簇内距离: 1.1652\n",
      "\n",
      "各簇的大小分布:\n",
      "cluster\n",
      "0    25803\n",
      "1    12727\n",
      "2     1469\n",
      "Name: count, dtype: int64\n"
     ]
    },
    {
     "data": {
      "image/png": "[encoded data removed]",
      "text/plain": [
       "<Figure size 1000x600 with 1 Axes>"
      ]
     },
     "metadata": {},
     "output_type": "display_data"
    }
   ],
   "source": [
    "# 使用确定的最佳K值执行K-means聚类\n",
    "best_k = 3  \n",
    "\n",
    "# 执行K-means聚类\n",
    "kmeans = KMeans(n_clusters=best_k, random_state=42, n_init=10)\n",
    "clusters = kmeans.fit_predict(X)\n",
    "\n",
    "# 将聚类结果添加到数据框中\n",
    "df['cluster'] = clusters\n",
    "\n",
    "# 计算并展示聚类效果的评估指标\n",
    "silhouette = silhouette_score(X, clusters)\n",
    "print(f\"轮廓系数: {silhouette:.4f}\")\n",
    "\n",
    "# 计算簇内距离\n",
    "intra_distances = kmeans.transform(X).min(axis=1).mean()\n",
    "print(f\"簇内距离: {intra_distances:.4f}\")\n",
    "\n",
    "# 展示聚类结果的基本统计信息\n",
    "cluster_counts = df['cluster'].value_counts().sort_index()\n",
    "print(\"\\n各簇的大小分布:\")\n",
    "print(cluster_counts)\n",
    "\n",
    "# 可视化各簇的大小分布\n",
    "plt.figure(figsize=(10, 6))\n",
    "sns.barplot(x=cluster_counts.index, y=cluster_counts.values)\n",
    "plt.xlabel('簇编号')\n",
    "plt.ylabel('评论数量')\n",
    "plt.title('各簇的大小分布')\n",
    "plt.show()"
   ]
  },
  {
   "cell_type": "markdown",
   "metadata": {},
   "source": [
    "# 可视化聚类结果\n",
    "使用PCA或t-SNE将高维词向量空间降维到2D进行可视化。绘制散点图展示不同簇的分布，配色方案使各簇区分明显。添加交互元素，如悬停显示评论内容。提供不同降维方法的对比，展示Word2Vec捕捉的语义关系。"
   ]
  },
  {
   "cell_type": "code",
   "execution_count": 14,
   "metadata": {},
   "outputs": [
    {
     "data": {
      "application/vnd.jupyter.widget-view+json": {
       "model_id": "2846e425571a46308794d446c6db73b0",
       "version_major": 2,
       "version_minor": 0
      },
      "text/plain": [
       "interactive(children=(Dropdown(description='method', options=('PCA', 't-SNE'), value='PCA'), Output()), _dom_c…"
      ]
     },
     "metadata": {},
     "output_type": "display_data"
    }
   ],
   "source": [
    "from sklearn.manifold import TSNE\n",
    "import plotly.express as px\n",
    "\n",
    "# 可视化聚类结果\n",
    "def visualize_clusters(X, clusters, df, method='PCA'):\n",
    "    if method == 'PCA':\n",
    "        # 使用PCA降维到2D用于可视化\n",
    "        pca = PCA(n_components=2)\n",
    "        X_2d = pca.fit_transform(X)\n",
    "    elif method == 't-SNE':\n",
    "        # 使用t-SNE降维到2D用于可视化\n",
    "        tsne = TSNE(n_components=2, random_state=42)\n",
    "        X_2d = tsne.fit_transform(X)\n",
    "    else:\n",
    "        raise ValueError(\"method参数必须是'PCA'或't-SNE'\")\n",
    "    \n",
    "    # 创建可视化DataFrame\n",
    "    viz_df = pd.DataFrame({\n",
    "        'x': X_2d[:, 0],\n",
    "        'y': X_2d[:, 1],\n",
    "        'cluster': clusters,\n",
    "        'comment': df['Comment']\n",
    "    })\n",
    "    \n",
    "    # 使用Plotly绘制交互式散点图\n",
    "    fig = px.scatter(viz_df, x='x', y='y', color='cluster', hover_data=['comment'], title=f'评论聚类结果 ({method})')\n",
    "    fig.show()\n",
    "\n",
    "# 交互式可视化聚类结果\n",
    "@interact(method=['PCA', 't-SNE'])\n",
    "def interactive_visualize_clusters(method='PCA'):\n",
    "    visualize_clusters(X, clusters, df, method)"
   ]
  },
  {
   "cell_type": "markdown",
   "metadata": {},
   "source": [
    "# 分析聚类特征\n",
    "分析每个簇的中心向量，提取每个簇的代表性词语。对每个簇计算最接近中心的评论，并展示这些代表性评论内容。尝试使用Word2Vec的语义特性，如相似词查询，展示每个簇的语义主题。创建词云图显示每个簇的关键词分布。"
   ]
  },
  {
   "cell_type": "code",
   "execution_count": 15,
   "metadata": {},
   "outputs": [
    {
     "name": "stdout",
     "output_type": "stream",
     "text": [
      "簇 0:\n",
      "  关键词: concept, gotta, thats, laugh, okay, yourself, ok, point, listen, felt\n",
      "  文档数量: 25803\n",
      "  示例评论:\n",
      "    - This is like the good girl version of Amy Winehouse...\n",
      "    - Fucking nigger - PewDiePie 2017...\n",
      "    - I haven't seen a single video of Ingrid in aaaaaaages and omg she's so skinny now??????? 🙃...\n",
      "\n",
      "簇 1:\n",
      "  关键词: didnt, starting, especially, radio, friend, attention, allowed, alodia, reading, dang\n",
      "  文档数量: 12727\n",
      "  示例评论:\n",
      "    - That must be a feature to stop a-holes from fumbling through all their crap while driving. It probab...\n",
      "    - Kanye West is the greatest ARTIST of the 21st century...\n",
      "    - she is slayin 🔥...\n",
      "\n",
      "簇 2:\n",
      "  关键词: xoxo, w, k, g, y, button, ncontact, sica, recovery, millionaire\n",
      "  文档数量: 1469\n",
      "  示例评论:\n",
      "    - It was my b day yesterday...\n",
      "    - 2:01 The lighting makes it look like the llama's eyes are glowing \\n\\n*S* *P* *O* *O* *P* *Y*...\n",
      "    - iPhone xxxxxxxxxxx...\n",
      "\n"
     ]
    },
    {
     "data": {
      "application/vnd.jupyter.widget-view+json": {
       "model_id": "a27d3a07d38b40caa2c98d69afd9fd83",
       "version_major": 2,
       "version_minor": 0
      },
      "text/plain": [
       "interactive(children=(IntSlider(value=1, description='cluster_id', max=2), Output()), _dom_classes=('widget-in…"
      ]
     },
     "metadata": {},
     "output_type": "display_data"
    },
    {
     "data": {
      "text/plain": [
       "<function __main__.plot_wordcloud(cluster_id, cluster_terms)>"
      ]
     },
     "execution_count": 15,
     "metadata": {},
     "output_type": "execute_result"
    }
   ],
   "source": [
    "from wordcloud import WordCloud\n",
    "from ipywidgets import interact,fixed\n",
    "# 分析每个簇的特征词\n",
    "def analyze_clusters(w2v_model, kmeans, df, clusters, top_n=10):\n",
    "    # 获取每个簇的中心\n",
    "    centroids = kmeans.cluster_centers_\n",
    "    \n",
    "    # 获取特征词\n",
    "    cluster_terms = {}\n",
    "    for i in range(len(centroids)):\n",
    "        centroid = centroids[i]\n",
    "        # 计算每个词与中心的相似度\n",
    "        similar_words = w2v_model.wv.similar_by_vector(centroid, topn=top_n)\n",
    "        cluster_terms[i] = [word for word, _ in similar_words]\n",
    "    \n",
    "    # 打印每个簇的关键词\n",
    "    for cluster_id, terms in cluster_terms.items():\n",
    "        print(f\"簇 {cluster_id}:\")\n",
    "        print(f\"  关键词: {', '.join(terms)}\")\n",
    "        \n",
    "        # 计算这个簇中文档数量\n",
    "        cluster_df = df[df['cluster'] == cluster_id]\n",
    "        print(f\"  文档数量: {len(cluster_df)}\")\n",
    "        \n",
    "        # 打印3个代表性评论\n",
    "        print(\"  示例评论:\")\n",
    "        for _, row in cluster_df.sample(min(3, len(cluster_df))).iterrows():\n",
    "            print(f\"    - {row['Comment'][:100]}...\")\n",
    "        print()\n",
    "    \n",
    "    # 返回簇的关键词\n",
    "    return cluster_terms\n",
    "\n",
    "# 分析每个簇的特征词\n",
    "cluster_terms = analyze_clusters(w2v_model, kmeans, df, clusters)\n",
    "\n",
    "# 创建词云图显示每个簇的关键词分布\n",
    "def plot_wordcloud(cluster_id, cluster_terms):\n",
    "    wordcloud = WordCloud(width=800, height=400, background_color='white').generate(' '.join(cluster_terms[cluster_id]))\n",
    "    plt.figure(figsize=(10, 5))\n",
    "    plt.imshow(wordcloud, interpolation='bilinear')\n",
    "    plt.axis('off')\n",
    "    plt.title(f'簇 {cluster_id} 的关键词词云')\n",
    "    plt.show()\n",
    "\n",
    "# 交互式展示每个簇的关键词词云\n",
    "interact(plot_wordcloud, cluster_id=(0, best_k-1), cluster_terms=fixed(cluster_terms))"
   ]
  }
 ],
 "metadata": {
  "kernelspec": {
   "display_name": "opencv",
   "language": "python",
   "name": "python3"
  },
  "language_info": {
   "codemirror_mode": {
    "name": "ipython",
    "version": 3
   },
   "file_extension": ".py",
   "mimetype": "text/x-python",
   "name": "python",
   "nbconvert_exporter": "python",
   "pygments_lexer": "ipython3",
   "version": "3.12.7"
  }
 },
 "nbformat": 4,
 "nbformat_minor": 2
}
