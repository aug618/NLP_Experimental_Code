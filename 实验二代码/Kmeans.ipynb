{
 "cells": [
  {
   "cell_type": "markdown",
   "metadata": {},
   "source": [
    "# 导入所需的库\n",
    "导入所有必要的库，包括pandas、numpy、matplotlib、seaborn、scikit-learn中的相关模块以及正则表达式库。每个导入语句后添加注释说明该库的用途。"
   ]
  },
  {
   "cell_type": "code",
   "execution_count": 3,
   "metadata": {},
   "outputs": [],
   "source": [
    "import pandas as pd  # 数据处理和分析\n",
    "import numpy as np  # 数值计算\n",
    "import matplotlib.pyplot as plt  # 数据可视化\n",
    "import seaborn as sns  # 数据可视化\n",
    "from sklearn.feature_extraction.text import TfidfVectorizer  # 文本特征提取\n",
    "from sklearn.cluster import KMeans  # K-means聚类算法\n",
    "from sklearn.decomposition import PCA, TruncatedSVD  # 降维算法\n",
    "from sklearn.metrics import silhouette_score  # 聚类评估指标\n",
    "import re  # 正则表达式库，用于文本清洗"
   ]
  },
  {
   "cell_type": "markdown",
   "metadata": {},
   "source": [
    "# 加载和预处理数据\n",
    "定义数据加载和文本清洗函数。加载CSV文件，处理列名，删除空值，并对文本进行基本清洗（小写转换、移除特殊字符等）。提供实时代码执行示例并显示处理前后的数据对比。"
   ]
  },
  {
   "cell_type": "code",
   "execution_count": null,
   "metadata": {},
   "outputs": [
    {
     "name": "stdout",
     "output_type": "stream",
     "text": [
      "数据集共有 18364 条评论\n",
      "数据集包含的列: ['Comment', 'Sentiment', 'clean_comment']\n",
      "\n",
      "处理前的前5条评论:\n",
      "0    lets not forget that apple pay in 2014 require...\n",
      "1    here in nz 50 of retailers don’t even have con...\n",
      "2    i will forever acknowledge this channel with t...\n",
      "3    whenever i go to a place that doesn’t take app...\n",
      "4    apple pay is so convenient secure and easy to ...\n",
      "Name: Comment, dtype: object\n",
      "\n",
      "处理后的前5条评论:\n",
      "0    lets not forget that apple pay in 2014 require...\n",
      "1    here in nz 50 of retailers don t even have con...\n",
      "2    i will forever acknowledge this channel with t...\n",
      "3    whenever i go to a place that doesn t take app...\n",
      "4    apple pay is so convenient secure and easy to ...\n",
      "Name: clean_comment, dtype: object\n"
     ]
    }
   ],
   "source": [
    "# 定义数据加载和预处理函数\n",
    "def load_and_preprocess(file_path):\n",
    "    # 读取CSV文件\n",
    "    df = pd.read_csv(file_path)\n",
    "    \n",
    "    # 确保数据有Comment列\n",
    "    if 'Comment' not in df.columns:\n",
    "        raise ValueError(\"CSV文件中没有'Comment'列\")\n",
    "    \n",
    "    # 确保没有空值\n",
    "    df = df.dropna(subset=['Comment'])\n",
    "    \n",
    "    # 文本清洗\n",
    "    df['clean_comment'] = df['Comment'].apply(clean_text)\n",
    "    \n",
    "    return df\n",
    "\n",
    "# 定义文本清洗函数\n",
    "def clean_text(text):\n",
    "    # 转换为小写\n",
    "    text = str(text).lower()\n",
    "    # 移除特殊字符和多余空格\n",
    "    text = re.sub(r'[^\\w\\s]', ' ', text)\n",
    "    text = re.sub(r'\\s+', ' ', text)\n",
    "    return text.strip()\n",
    "\n",
    "# 加载和预处理数据\n",
    "file_path = \"data/YoutubeCommentsDataSet.csv\"  \n",
    "df = load_and_preprocess(file_path)\n",
    "\n",
    "# 显示数据基本信息\n",
    "print(f\"数据集共有 {len(df)} 条评论\")\n",
    "print(f\"数据集包含的列: {df.columns.tolist()}\")\n",
    "\n",
    "# 显示处理前后的数据对比\n",
    "print(\"\\n处理前的前5条评论:\")\n",
    "print(df['Comment'].head())\n",
    "print(\"\\n处理后的前5条评论:\")\n",
    "print(df['clean_comment'].head())"
   ]
  },
  {
   "cell_type": "markdown",
   "metadata": {},
   "source": [
    "# 特征提取与向量化\n",
    "使用TF-IDF向量化评论文本。展示向量化过程中的参数选择（如max_features、stop_words等）。展示向量化后的特征矩阵的形状和部分内容，以及特征词表示法。"
   ]
  },
  {
   "cell_type": "code",
   "execution_count": 5,
   "metadata": {},
   "outputs": [
    {
     "name": "stdout",
     "output_type": "stream",
     "text": [
      "特征矩阵的形状: (18364, 1000)\n",
      "部分特征词: ['0018' '10' '100' '1010' '11' '1112' '12' '13' '14' '15']\n",
      "特征矩阵的部分内容:\n",
      "[[0. 0. 0. ... 0. 0. 0.]\n",
      " [0. 0. 0. ... 0. 0. 0.]\n",
      " [0. 0. 0. ... 0. 0. 0.]\n",
      " [0. 0. 0. ... 0. 0. 0.]\n",
      " [0. 0. 0. ... 0. 0. 0.]]\n"
     ]
    }
   ],
   "source": [
    "# 使用TF-IDF向量化评论文本\n",
    "max_features = 1000  # 最大特征数\n",
    "stop_words = 'english'  # 使用英文停用词\n",
    "min_df = 2  # 忽略出现次数过少的词\n",
    "\n",
    "# 初始化TF-IDF向量化器\n",
    "vectorizer = TfidfVectorizer(max_features=max_features, stop_words=stop_words, min_df=min_df)\n",
    "\n",
    "# 对清洗后的评论文本进行向量化\n",
    "X = vectorizer.fit_transform(df['clean_comment'])\n",
    "\n",
    "# 显示向量化后的特征矩阵的形状\n",
    "print(f\"特征矩阵的形状: {X.shape}\")\n",
    "\n",
    "# 显示部分特征词\n",
    "feature_names = vectorizer.get_feature_names_out()\n",
    "print(f\"部分特征词: {feature_names[:10]}\")\n",
    "\n",
    "# 显示部分向量化后的特征矩阵内容\n",
    "print(f\"特征矩阵的部分内容:\\n{X[:5].toarray()}\")"
   ]
  },
  {
   "cell_type": "markdown",
   "metadata": {},
   "source": [
    "# 确定最佳聚类数量\n",
    "使用肘部法则和轮廓系数方法确定最佳的K值。绘制不同K值下的惯性和轮廓系数曲线图，并进行分析解释。添加交互式的K值测试，允许用户尝试不同的K值范围。"
   ]
  },
  {
   "cell_type": "code",
   "execution_count": 6,
   "metadata": {},
   "outputs": [
    {
     "data": {
      "application/vnd.jupyter.widget-view+json": {
       "model_id": "2badd1c3c02541acbc56b116247861d7",
       "version_major": 2,
       "version_minor": 0
      },
      "text/plain": [
       "interactive(children=(IntSlider(value=10, description='max_k', max=20, min=2), Output()), _dom_classes=('widge…"
      ]
     },
     "metadata": {},
     "output_type": "display_data"
    }
   ],
   "source": [
    "from ipywidgets import interact\n",
    "from matplotlib import rcParams\n",
    "# 设置中文字体（以 SimHei 为例）\n",
    "rcParams['font.sans-serif'] = ['SimHei']  # 设置字体为 SimHei（黑体）\n",
    "rcParams['axes.unicode_minus'] = False   # 解决负号显示问题\n",
    "# 定义寻找最佳K值的函数\n",
    "def find_optimal_k(X, max_k=10):\n",
    "    inertia_values = []\n",
    "    silhouette_values = []\n",
    "    k_values = range(2, max_k + 1)\n",
    "    \n",
    "    for k in k_values:\n",
    "        kmeans = KMeans(n_clusters=k, random_state=42, n_init=10)\n",
    "        clusters = kmeans.fit_predict(X)\n",
    "        inertia_values.append(kmeans.inertia_)\n",
    "        \n",
    "        # 计算轮廓系数\n",
    "        if k > 1:  # 轮廓系数需要至少2个簇\n",
    "            silhouette_values.append(silhouette_score(X, clusters))\n",
    "    \n",
    "    # 绘制肘部图\n",
    "    plt.figure(figsize=(12, 5))\n",
    "    \n",
    "    plt.subplot(1, 2, 1)\n",
    "    plt.plot(k_values, inertia_values, 'o-')\n",
    "    plt.xlabel('聚类数量 (k)')\n",
    "    plt.ylabel('惯性 (Inertia)')\n",
    "    plt.title('肘部法则')\n",
    "    plt.grid(True)\n",
    "    \n",
    "    plt.subplot(1, 2, 2)\n",
    "    plt.plot(k_values, silhouette_values, 'o-')\n",
    "    plt.xlabel('聚类数量 (k)')\n",
    "    plt.ylabel('轮廓系数')\n",
    "    plt.title('轮廓系数法')\n",
    "    plt.grid(True)\n",
    "    \n",
    "    plt.tight_layout()\n",
    "    plt.show()\n",
    "    \n",
    "    # 返回最佳K值（轮廓系数最高的K值）\n",
    "    best_k = k_values[np.argmax(silhouette_values)]\n",
    "    return best_k, inertia_values, silhouette_values\n",
    "\n",
    "# 交互式寻找最佳K值\n",
    "@interact(max_k=(2, 20))\n",
    "def interactive_find_optimal_k(max_k=10):\n",
    "    best_k, inertia_values, silhouette_values = find_optimal_k(X, max_k)\n",
    "    print(f\"根据轮廓系数，最佳的聚类数量为: {best_k}\")"
   ]
  },
  {
   "cell_type": "markdown",
   "metadata": {},
   "source": [
    "# 执行K-means聚类\n",
    "使用确定的最佳K值执行K-means聚类。展示聚类结果的基本统计信息，如各簇的大小分布。计算并展示聚类效果的评估指标，如轮廓系数。"
   ]
  },
  {
   "cell_type": "code",
   "execution_count": null,
   "metadata": {},
   "outputs": [
    {
     "name": "stdout",
     "output_type": "stream",
     "text": [
      "轮廓系数: 0.0236\n",
      "\n",
      "各簇的大小分布:\n",
      "cluster\n",
      "0      665\n",
      "1     1023\n",
      "2      505\n",
      "3      957\n",
      "4     1448\n",
      "5    10181\n",
      "6      866\n",
      "7     2365\n",
      "8      354\n",
      "Name: count, dtype: int64\n"
     ]
    },
    {
     "data": {
      "image/png": "[encoded data removed]",
      "text/plain": [
       "<Figure size 1000x600 with 1 Axes>"
      ]
     },
     "metadata": {},
     "output_type": "display_data"
    }
   ],
   "source": [
    "# 使用确定的最佳K值执行K-means聚类\n",
    "best_k = 9  \n",
    "\n",
    "# 执行K-means聚类\n",
    "kmeans = KMeans(n_clusters=best_k, random_state=42, n_init=10)\n",
    "clusters = kmeans.fit_predict(X)\n",
    "\n",
    "# 将聚类结果添加到数据框中\n",
    "df['cluster'] = clusters\n",
    "\n",
    "# 计算并展示聚类效果的评估指标\n",
    "silhouette = silhouette_score(X, clusters)\n",
    "print(f\"轮廓系数: {silhouette:.4f}\")\n",
    "\n",
    "# 展示聚类结果的基本统计信息\n",
    "cluster_counts = df['cluster'].value_counts().sort_index()\n",
    "print(\"\\n各簇的大小分布:\")\n",
    "print(cluster_counts)\n",
    "\n",
    "# 可视化各簇的大小分布\n",
    "plt.figure(figsize=(10, 6))\n",
    "sns.barplot(x=cluster_counts.index, y=cluster_counts.values)\n",
    "plt.xlabel('簇编号')\n",
    "plt.ylabel('评论数量')\n",
    "plt.title('各簇的大小分布')\n",
    "plt.show()"
   ]
  },
  {
   "cell_type": "markdown",
   "metadata": {},
   "source": [
    "# 可视化聚类结果\n",
    "将高维特征空间使用PCA或TruncatedSVD降维到2D进行可视化。绘制散点图展示不同簇的分布，配色方案使各簇区分明显。添加交互元素，如悬停显示评论内容。"
   ]
  },
  {
   "cell_type": "code",
   "execution_count": 8,
   "metadata": {},
   "outputs": [
    {
     "name": "stderr",
     "output_type": "stream",
     "text": [
      "d:\\work_space\\Anaconda\\envs\\opencv\\Lib\\site-packages\\traitlets\\traitlets.py:1764: SparseEfficiencyWarning: Comparing sparse matrices using == is inefficient, try using != instead.\n",
      "  getattr(cls, name).set(self, value)\n"
     ]
    },
    {
     "data": {
      "application/vnd.jupyter.widget-view+json": {
       "model_id": "aee8ca29aebd4d1dbb02c33e7fa0f5e8",
       "version_major": 2,
       "version_minor": 0
      },
      "text/plain": [
       "interactive(children=(Output(),), _dom_classes=('widget-interact',))"
      ]
     },
     "metadata": {},
     "output_type": "display_data"
    },
    {
     "data": {
      "text/plain": [
       "<function __main__.visualize_clusters(X, clusters, df)>"
      ]
     },
     "execution_count": 8,
     "metadata": {},
     "output_type": "execute_result"
    }
   ],
   "source": [
    "# 导入所需的库\n",
    "from ipywidgets import interact, fixed  # 添加fixed导入\n",
    "import plotly.express as px\n",
    "# 可视化聚类结果\n",
    "def visualize_clusters(X, clusters, df):\n",
    "    # 使用PCA或TruncatedSVD降维到2D用于可视化\n",
    "    if isinstance(X, np.ndarray) and X.shape[1] > 2:\n",
    "        pca = PCA(n_components=2)\n",
    "        X_2d = pca.fit_transform(X)\n",
    "    else:  # 对于稀疏矩阵使用TruncatedSVD\n",
    "        svd = TruncatedSVD(n_components=2)\n",
    "        X_2d = svd.fit_transform(X.toarray() if hasattr(X, 'toarray') else X)\n",
    "    \n",
    "    # 创建可视化DataFrame\n",
    "    viz_df = pd.DataFrame({\n",
    "        'x': X_2d[:, 0],\n",
    "        'y': X_2d[:, 1],\n",
    "        'cluster': clusters,\n",
    "        'comment': df['Comment']\n",
    "    })\n",
    "    \n",
    "    # 使用Plotly绘制交互式散点图\n",
    "    fig = px.scatter(viz_df, x='x', y='y', color='cluster', hover_data=['comment'], title='评论聚类结果')\n",
    "    fig.show()\n",
    "\n",
    "# 交互式可视化聚类结果\n",
    "interact(visualize_clusters, X=fixed(X), clusters=fixed(clusters), df=fixed(df))"
   ]
  },
  {
   "cell_type": "markdown",
   "metadata": {},
   "source": [
    "# 分析聚类特征词\n",
    "分析每个簇的中心向量，提取每个簇的特征词（最重要的词语）。为每个簇展示最具代表性的几条评论。创建词云图或条形图显示每个簇的关键词分布。"
   ]
  },
  {
   "cell_type": "code",
   "execution_count": null,
   "metadata": {},
   "outputs": [
    {
     "name": "stdout",
     "output_type": "stream",
     "text": [
      "簇 0:\n",
      "  关键词: videos, love, effort, best, thank, make, im, really, appreciate, thanks\n",
      "  文档数量: 665\n",
      "  示例评论:\n",
      "    - i love animal videos but this one has some flat out incorrect information elephants for example do n...\n",
      "    - people who take time out of their lives to make this much content over challenging subjects are the ...\n",
      "    - im a college student wanting to explore this field youre been a great help id love to watch ur video...\n",
      "\n",
      "簇 1:\n",
      "  关键词: thank, video, really, sir, helpful, sharing, im, love, job, time\n",
      "  文档数量: 1023\n",
      "  示例评论:\n",
      "    - thank you for this report well done and very helpful...\n",
      "    - renewed confidence that i can get through all this chemistry i have to take to be a biologist thank ...\n",
      "    - dear organic chemistry tutor i am preparing for biology and chemistry exams after not taking these c...\n",
      "\n",
      "簇 2:\n",
      "  关键词: amazing, work, love, just, thank, game, looks, video, good, like\n",
      "  文档数量: 505\n",
      "  示例评论:\n",
      "    - ill never get tired of watching this masterpiece direct the game has so much content plus the interl...\n",
      "    - nothing beats the amazing intros that the team makes in these videos...\n",
      "    - great this is one of the most wild raw videos i have ever seen beautiful animals spectacular scenery...\n",
      "\n",
      "簇 3:\n",
      "  关键词: love, song, just, really, content, video, good, music, guys, man\n",
      "  文档数量: 957\n",
      "  示例评论:\n",
      "    - i love nutty history it’s 100 better than horrible history keep this content rolling we can’t get en...\n",
      "    - the 80s are probably the best years to be alive in i love the 80s...\n",
      "    - whos watching hungry wanting the same thing i love king crab...\n",
      "\n",
      "簇 4:\n",
      "  关键词: like, just, feel, really, looks, im, people, time, make, dont\n",
      "  文档数量: 1448\n",
      "  示例评论:\n",
      "    - you can try coating the berries with flour before you mix them in the flour coating on them slows do...\n",
      "    - there are many like him in tn its a delight to listen to everyone of them fortunate to understand th...\n",
      "    - if you are going to put liars like mulvaney on air you need to stop them and push back every time th...\n",
      "\n",
      "簇 5:\n",
      "  关键词: time, im, people, best, really, game, years, know, make, man\n",
      "  文档数量: 10181\n",
      "  示例评论:\n",
      "    - the look you gave ya man when he walked in  you definitely need to do more mukbangs friend...\n",
      "    - brilliant work soda happy to see this format is doing well i do miss your old outro ...\n",
      "    - y’all know that jr and kane clip made my day...\n",
      "\n",
      "簇 6:\n",
      "  关键词: great, video, job, thanks, love, content, work, really, like, thank\n",
      "  文档数量: 866\n",
      "  示例评论:\n",
      "    - thanks for including somewhere known and aloud d happy to be apart of a great selection of tunes...\n",
      "    - the new dont explode looks so much better already even you have came a long way with pixel art and a...\n",
      "    - great video today ray i enjoy many of your videos to get my xbox fix nice interview today i love see...\n",
      "\n",
      "簇 7:\n",
      "  关键词: just, good, video, really, im, know, thanks, time, people, appreciate\n",
      "  文档数量: 2365\n",
      "  示例评论:\n",
      "    - that salsa looks bomb i finally made a good homemade one last week and have eaten it every day since...\n",
      "    - good movie ...\n",
      "    - 1053 let’s just appreciate how they always manage to put a smile on our faces whenever we feel negat...\n",
      "\n",
      "簇 8:\n",
      "  关键词: que, la, se, el, en, los, es, lo, para, son\n",
      "  文档数量: 354\n",
      "  示例评论:\n",
      "    - pocas veces te encuentras personas que realmente transmitan el amor por lo que hacen y con las palab...\n",
      "    - salut emb je voulais savoir si la version deluxe sera aussi au format physique pour l’accès anticipé...\n",
      "    - me atraparon de inmediato al poner blinding lights y poder ver un adelanto de como kamala usando sus...\n",
      "\n"
     ]
    },
    {
     "data": {
      "application/vnd.jupyter.widget-view+json": {
       "model_id": "1b832bf117c1429792f610cd6ac62ff0",
       "version_major": 2,
       "version_minor": 0
      },
      "text/plain": [
       "interactive(children=(IntSlider(value=4, description='cluster_id', max=8), Output()), _dom_classes=('widget-in…"
      ]
     },
     "metadata": {},
     "output_type": "display_data"
    },
    {
     "data": {
      "text/plain": [
       "<function __main__.plot_wordcloud(cluster_id, cluster_terms)>"
      ]
     },
     "execution_count": 9,
     "metadata": {},
     "output_type": "execute_result"
    }
   ],
   "source": [
    "from wordcloud import WordCloud\n",
    "import matplotlib.pyplot as plt\n",
    "\n",
    "# 分析每个簇的特征词\n",
    "def analyze_clusters(vectorizer, kmeans, df, clusters, top_n=10):\n",
    "    # 获取每个簇的中心\n",
    "    centroids = kmeans.cluster_centers_\n",
    "    \n",
    "    # 获取特征名（词语）\n",
    "    feature_names = vectorizer.get_feature_names_out()\n",
    "    \n",
    "    # 为每个簇找出最重要的词语\n",
    "    cluster_terms = {}\n",
    "    for i in range(len(centroids)):\n",
    "        # 获取中心向量并排序，得到指标\n",
    "        centroid = centroids[i]\n",
    "        ordered_terms = [feature_names[term_idx] for term_idx in centroid.argsort()[:-(top_n+1):-1]]\n",
    "        cluster_terms[i] = ordered_terms\n",
    "    \n",
    "    # 打印每个簇的关键词\n",
    "    for cluster_id, terms in cluster_terms.items():\n",
    "        print(f\"簇 {cluster_id}:\")\n",
    "        print(f\"  关键词: {', '.join(terms)}\")\n",
    "        \n",
    "        # 计算这个簇中文档数量\n",
    "        cluster_df = df[clusters == cluster_id]\n",
    "        print(f\"  文档数量: {len(cluster_df)}\")\n",
    "        \n",
    "        # 打印3个代表性评论\n",
    "        print(\"  示例评论:\")\n",
    "        for _, row in cluster_df.sample(min(3, len(cluster_df))).iterrows():\n",
    "            print(f\"    - {row['Comment'][:100]}...\")\n",
    "        print()\n",
    "    \n",
    "    # 返回簇的关键词\n",
    "    return cluster_terms\n",
    "\n",
    "# 分析每个簇的特征词\n",
    "cluster_terms = analyze_clusters(vectorizer, kmeans, df, clusters)\n",
    "\n",
    "# 创建词云图显示每个簇的关键词分布\n",
    "def plot_wordcloud(cluster_id, cluster_terms):\n",
    "    wordcloud = WordCloud(width=800, height=400, background_color='white').generate(' '.join(cluster_terms[cluster_id]))\n",
    "    plt.figure(figsize=(10, 5))\n",
    "    plt.imshow(wordcloud, interpolation='bilinear')\n",
    "    plt.axis('off')\n",
    "    plt.title(f'簇 {cluster_id} 的关键词词云')\n",
    "    plt.show()\n",
    "\n",
    "# 交互式展示每个簇的关键词词云\n",
    "interact(plot_wordcloud, cluster_id=(0, best_k-1), cluster_terms=fixed(cluster_terms))"
   ]
  }
 ],
 "metadata": {
  "kernelspec": {
   "display_name": "opencv",
   "language": "python",
   "name": "python3"
  },
  "language_info": {
   "codemirror_mode": {
    "name": "ipython",
    "version": 3
   },
   "file_extension": ".py",
   "mimetype": "text/x-python",
   "name": "python",
   "nbconvert_exporter": "python",
   "pygments_lexer": "ipython3",
   "version": "3.12.7"
  }
 },
 "nbformat": 4,
 "nbformat_minor": 2
}
